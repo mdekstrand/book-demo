{
 "cells": [
  {
   "cell_type": "markdown",
   "id": "0d2ae98a",
   "metadata": {},
   "source": [
    "# Book Recommendation Demo"
   ]
  },
  {
   "cell_type": "markdown",
   "id": "6c240822",
   "metadata": {},
   "source": [
    "## Setup\n",
    "\n",
    "Let's get some libraries in here:"
   ]
  },
  {
   "cell_type": "code",
   "execution_count": 1,
   "id": "f01b4fe0",
   "metadata": {},
   "outputs": [],
   "source": [
    "import pandas as pd\n",
    "import numpy as np\n",
    "import matplotlib.pyplot as plt\n",
    "import seaborn as sns"
   ]
  },
  {
   "cell_type": "markdown",
   "id": "d14c7561",
   "metadata": {},
   "source": [
    "And LensKit pieces:"
   ]
  },
  {
   "cell_type": "code",
   "execution_count": 2,
   "id": "9e470c42",
   "metadata": {},
   "outputs": [],
   "source": [
    "from lenskit import topn, batch, sharing\n",
    "from lenskit import crossfold as xf\n",
    "from lenskit.algorithms import Recommender\n",
    "from lenskit.algorithms.basic import Popular\n",
    "from lenskit.algorithms.item_knn import ItemItem\n",
    "from lenskit.algorithms.als import ImplicitMF"
   ]
  },
  {
   "cell_type": "markdown",
   "id": "72ce9e20",
   "metadata": {},
   "source": [
    "Set up logging:"
   ]
  },
  {
   "cell_type": "code",
   "execution_count": 3,
   "id": "26050512",
   "metadata": {},
   "outputs": [
    {
     "name": "stdout",
     "output_type": "stream",
     "text": [
      "[   INFO] lenskit.util.log notebook logging configured\n"
     ]
    }
   ],
   "source": [
    "from lenskit.util import log_to_notebook\n",
    "log_to_notebook()"
   ]
  },
  {
   "cell_type": "markdown",
   "id": "4b634420",
   "metadata": {},
   "source": [
    "And initialize the RNG:"
   ]
  },
  {
   "cell_type": "code",
   "execution_count": 4,
   "id": "19f5ade7",
   "metadata": {},
   "outputs": [
    {
     "name": "stdout",
     "output_type": "stream",
     "text": [
      "[   INFO] seedbank initialized root seed SeedSequence(\n",
      "    entropy=20230215,\n",
      ")\n"
     ]
    },
    {
     "data": {
      "text/plain": [
       "SeedSequence(\n",
       "    entropy=20230215,\n",
       ")"
      ]
     },
     "execution_count": 4,
     "metadata": {},
     "output_type": "execute_result"
    }
   ],
   "source": [
    "import seedbank\n",
    "seedbank.initialize(20230215)"
   ]
  },
  {
   "cell_type": "markdown",
   "id": "ef36edf6",
   "metadata": {},
   "source": [
    "## Loading Data\n",
    "\n",
    "We need to load data. This file is pre-filtered for us; we have also pre-split the data with anotehr script."
   ]
  },
  {
   "cell_type": "code",
   "execution_count": 5,
   "id": "999fa26d",
   "metadata": {},
   "outputs": [
    {
     "name": "stdout",
     "output_type": "stream",
     "text": [
      "<class 'pandas.core.frame.DataFrame'>\n",
      "Int64Index: 25940001 entries, 0 to 25952500\n",
      "Data columns (total 2 columns):\n",
      " #   Column  Dtype\n",
      "---  ------  -----\n",
      " 0   user    int32\n",
      " 1   item    int32\n",
      "dtypes: int32(2)\n",
      "memory usage: 395.8 MB\n"
     ]
    }
   ],
   "source": [
    "train = pd.read_parquet('data/action-core/eval-train.parquet', columns=['user', 'item'])\n",
    "train.info()"
   ]
  },
  {
   "cell_type": "code",
   "execution_count": 6,
   "id": "990f3c97",
   "metadata": {},
   "outputs": [
    {
     "name": "stdout",
     "output_type": "stream",
     "text": [
      "<class 'pandas.core.frame.DataFrame'>\n",
      "Int64Index: 12500 entries, 3326749 to 24742621\n",
      "Data columns (total 2 columns):\n",
      " #   Column  Non-Null Count  Dtype\n",
      "---  ------  --------------  -----\n",
      " 0   user    12500 non-null  int32\n",
      " 1   item    12500 non-null  int32\n",
      "dtypes: int32(2)\n",
      "memory usage: 195.3 KB\n"
     ]
    }
   ],
   "source": [
    "test = pd.read_parquet('data/action-core/eval-test.parquet', columns=['user', 'item'])\n",
    "test.info()"
   ]
  },
  {
   "cell_type": "markdown",
   "id": "47fab106",
   "metadata": {},
   "source": [
    "Grab work titles:"
   ]
  },
  {
   "cell_type": "code",
   "execution_count": 7,
   "id": "9570b537",
   "metadata": {},
   "outputs": [
    {
     "data": {
      "text/html": [
       "<div>\n",
       "<style scoped>\n",
       "    .dataframe tbody tr th:only-of-type {\n",
       "        vertical-align: middle;\n",
       "    }\n",
       "\n",
       "    .dataframe tbody tr th {\n",
       "        vertical-align: top;\n",
       "    }\n",
       "\n",
       "    .dataframe thead th {\n",
       "        text-align: right;\n",
       "    }\n",
       "</style>\n",
       "<table border=\"1\" class=\"dataframe\">\n",
       "  <thead>\n",
       "    <tr style=\"text-align: right;\">\n",
       "      <th></th>\n",
       "      <th>work_id</th>\n",
       "      <th>title</th>\n",
       "      <th>pub_year</th>\n",
       "    </tr>\n",
       "  </thead>\n",
       "  <tbody>\n",
       "    <tr>\n",
       "      <th>0</th>\n",
       "      <td>5400751</td>\n",
       "      <td>W. C. Fields: A Life on Film</td>\n",
       "      <td>1984.0</td>\n",
       "    </tr>\n",
       "    <tr>\n",
       "      <th>1</th>\n",
       "      <td>1323437</td>\n",
       "      <td>Good Harbor</td>\n",
       "      <td>2001.0</td>\n",
       "    </tr>\n",
       "    <tr>\n",
       "      <th>2</th>\n",
       "      <td>8948723</td>\n",
       "      <td>None</td>\n",
       "      <td>1987.0</td>\n",
       "    </tr>\n",
       "    <tr>\n",
       "      <th>3</th>\n",
       "      <td>6243154</td>\n",
       "      <td>Best Friends Forever</td>\n",
       "      <td>2009.0</td>\n",
       "    </tr>\n",
       "    <tr>\n",
       "      <th>4</th>\n",
       "      <td>278577</td>\n",
       "      <td>Runic Astrology: Starcraft and Timekeeping in ...</td>\n",
       "      <td>1990.0</td>\n",
       "    </tr>\n",
       "  </tbody>\n",
       "</table>\n",
       "</div>"
      ],
      "text/plain": [
       "   work_id                                              title  pub_year\n",
       "0  5400751                       W. C. Fields: A Life on Film    1984.0\n",
       "1  1323437                                        Good Harbor    2001.0\n",
       "2  8948723                                               None    1987.0\n",
       "3  6243154                               Best Friends Forever    2009.0\n",
       "4   278577  Runic Astrology: Starcraft and Timekeeping in ...    1990.0"
      ]
     },
     "execution_count": 7,
     "metadata": {},
     "output_type": "execute_result"
    }
   ],
   "source": [
    "works = pd.read_parquet('data/gr-work-info.parquet', columns=['work_id', 'title', 'pub_year'])\n",
    "works.head()"
   ]
  },
  {
   "cell_type": "markdown",
   "id": "c57c0ddb",
   "metadata": {},
   "source": [
    "The ratings are for *items*, which may be works or they may be books that don't have a work. Convert work IDs to item IDs:"
   ]
  },
  {
   "cell_type": "code",
   "execution_count": 8,
   "id": "d6ff9a81",
   "metadata": {},
   "outputs": [
    {
     "data": {
      "text/html": [
       "<div>\n",
       "<style scoped>\n",
       "    .dataframe tbody tr th:only-of-type {\n",
       "        vertical-align: middle;\n",
       "    }\n",
       "\n",
       "    .dataframe tbody tr th {\n",
       "        vertical-align: top;\n",
       "    }\n",
       "\n",
       "    .dataframe thead th {\n",
       "        text-align: right;\n",
       "    }\n",
       "</style>\n",
       "<table border=\"1\" class=\"dataframe\">\n",
       "  <thead>\n",
       "    <tr style=\"text-align: right;\">\n",
       "      <th></th>\n",
       "      <th>work_id</th>\n",
       "      <th>title</th>\n",
       "      <th>pub_year</th>\n",
       "    </tr>\n",
       "    <tr>\n",
       "      <th>item</th>\n",
       "      <th></th>\n",
       "      <th></th>\n",
       "      <th></th>\n",
       "    </tr>\n",
       "  </thead>\n",
       "  <tbody>\n",
       "    <tr>\n",
       "      <th>405400751</th>\n",
       "      <td>5400751</td>\n",
       "      <td>W. C. Fields: A Life on Film</td>\n",
       "      <td>1984.0</td>\n",
       "    </tr>\n",
       "    <tr>\n",
       "      <th>401323437</th>\n",
       "      <td>1323437</td>\n",
       "      <td>Good Harbor</td>\n",
       "      <td>2001.0</td>\n",
       "    </tr>\n",
       "    <tr>\n",
       "      <th>408948723</th>\n",
       "      <td>8948723</td>\n",
       "      <td>None</td>\n",
       "      <td>1987.0</td>\n",
       "    </tr>\n",
       "    <tr>\n",
       "      <th>406243154</th>\n",
       "      <td>6243154</td>\n",
       "      <td>Best Friends Forever</td>\n",
       "      <td>2009.0</td>\n",
       "    </tr>\n",
       "    <tr>\n",
       "      <th>400278577</th>\n",
       "      <td>278577</td>\n",
       "      <td>Runic Astrology: Starcraft and Timekeeping in ...</td>\n",
       "      <td>1990.0</td>\n",
       "    </tr>\n",
       "    <tr>\n",
       "      <th>...</th>\n",
       "      <td>...</td>\n",
       "      <td>...</td>\n",
       "      <td>...</td>\n",
       "    </tr>\n",
       "    <tr>\n",
       "      <th>425313618</th>\n",
       "      <td>25313618</td>\n",
       "      <td>None</td>\n",
       "      <td>2002.0</td>\n",
       "    </tr>\n",
       "    <tr>\n",
       "      <th>425365816</th>\n",
       "      <td>25365816</td>\n",
       "      <td>None</td>\n",
       "      <td>2013.0</td>\n",
       "    </tr>\n",
       "    <tr>\n",
       "      <th>403115103</th>\n",
       "      <td>3115103</td>\n",
       "      <td>This Sceptred Isle:  1837-1901</td>\n",
       "      <td>1996.0</td>\n",
       "    </tr>\n",
       "    <tr>\n",
       "      <th>446130263</th>\n",
       "      <td>46130263</td>\n",
       "      <td>None</td>\n",
       "      <td>2015.0</td>\n",
       "    </tr>\n",
       "    <tr>\n",
       "      <th>402349247</th>\n",
       "      <td>2349247</td>\n",
       "      <td>The Children's Classic Poetry Collection</td>\n",
       "      <td>1996.0</td>\n",
       "    </tr>\n",
       "  </tbody>\n",
       "</table>\n",
       "<p>1521962 rows × 3 columns</p>\n",
       "</div>"
      ],
      "text/plain": [
       "            work_id                                              title  \\\n",
       "item                                                                     \n",
       "405400751   5400751                       W. C. Fields: A Life on Film   \n",
       "401323437   1323437                                        Good Harbor   \n",
       "408948723   8948723                                               None   \n",
       "406243154   6243154                               Best Friends Forever   \n",
       "400278577    278577  Runic Astrology: Starcraft and Timekeeping in ...   \n",
       "...             ...                                                ...   \n",
       "425313618  25313618                                               None   \n",
       "425365816  25365816                                               None   \n",
       "403115103   3115103                     This Sceptred Isle:  1837-1901   \n",
       "446130263  46130263                                               None   \n",
       "402349247   2349247           The Children's Classic Poetry Collection   \n",
       "\n",
       "           pub_year  \n",
       "item                 \n",
       "405400751    1984.0  \n",
       "401323437    2001.0  \n",
       "408948723    1987.0  \n",
       "406243154    2009.0  \n",
       "400278577    1990.0  \n",
       "...             ...  \n",
       "425313618    2002.0  \n",
       "425365816    2013.0  \n",
       "403115103    1996.0  \n",
       "446130263    2015.0  \n",
       "402349247    1996.0  \n",
       "\n",
       "[1521962 rows x 3 columns]"
      ]
     },
     "execution_count": 8,
     "metadata": {},
     "output_type": "execute_result"
    }
   ],
   "source": [
    "works['item'] = works['work_id'] + 400_000_000\n",
    "works.set_index('item', inplace=True)\n",
    "works"
   ]
  },
  {
   "cell_type": "markdown",
   "id": "db0bf2dd",
   "metadata": {},
   "source": [
    "And get item statistics:"
   ]
  },
  {
   "cell_type": "code",
   "execution_count": 10,
   "id": "349e3fa1",
   "metadata": {},
   "outputs": [
    {
     "data": {
      "text/html": [
       "<div>\n",
       "<style scoped>\n",
       "    .dataframe tbody tr th:only-of-type {\n",
       "        vertical-align: middle;\n",
       "    }\n",
       "\n",
       "    .dataframe tbody tr th {\n",
       "        vertical-align: top;\n",
       "    }\n",
       "\n",
       "    .dataframe thead th {\n",
       "        text-align: right;\n",
       "    }\n",
       "</style>\n",
       "<table border=\"1\" class=\"dataframe\">\n",
       "  <thead>\n",
       "    <tr style=\"text-align: right;\">\n",
       "      <th></th>\n",
       "      <th>nratings</th>\n",
       "    </tr>\n",
       "    <tr>\n",
       "      <th>item</th>\n",
       "      <th></th>\n",
       "    </tr>\n",
       "  </thead>\n",
       "  <tbody>\n",
       "    <tr>\n",
       "      <th>400000087</th>\n",
       "      <td>350</td>\n",
       "    </tr>\n",
       "    <tr>\n",
       "      <th>400000098</th>\n",
       "      <td>363</td>\n",
       "    </tr>\n",
       "    <tr>\n",
       "      <th>400000104</th>\n",
       "      <td>444</td>\n",
       "    </tr>\n",
       "    <tr>\n",
       "      <th>400000114</th>\n",
       "      <td>571</td>\n",
       "    </tr>\n",
       "    <tr>\n",
       "      <th>400000115</th>\n",
       "      <td>3283</td>\n",
       "    </tr>\n",
       "    <tr>\n",
       "      <th>...</th>\n",
       "      <td>...</td>\n",
       "    </tr>\n",
       "    <tr>\n",
       "      <th>457733739</th>\n",
       "      <td>119</td>\n",
       "    </tr>\n",
       "    <tr>\n",
       "      <th>516148398</th>\n",
       "      <td>392</td>\n",
       "    </tr>\n",
       "    <tr>\n",
       "      <th>523555246</th>\n",
       "      <td>172</td>\n",
       "    </tr>\n",
       "    <tr>\n",
       "      <th>525329276</th>\n",
       "      <td>110</td>\n",
       "    </tr>\n",
       "    <tr>\n",
       "      <th>525374181</th>\n",
       "      <td>162</td>\n",
       "    </tr>\n",
       "  </tbody>\n",
       "</table>\n",
       "<p>55398 rows × 1 columns</p>\n",
       "</div>"
      ],
      "text/plain": [
       "           nratings\n",
       "item               \n",
       "400000087       350\n",
       "400000098       363\n",
       "400000104       444\n",
       "400000114       571\n",
       "400000115      3283\n",
       "...             ...\n",
       "457733739       119\n",
       "516148398       392\n",
       "523555246       172\n",
       "525329276       110\n",
       "525374181       162\n",
       "\n",
       "[55398 rows x 1 columns]"
      ]
     },
     "execution_count": 10,
     "metadata": {},
     "output_type": "execute_result"
    }
   ],
   "source": [
    "item_stats = train.groupby('item')['user'].agg(['count']).rename(columns={'count': 'nratings'})\n",
    "item_stats"
   ]
  },
  {
   "cell_type": "markdown",
   "id": "7524d705",
   "metadata": {},
   "source": [
    "And look at the popularity curve for a bit of statistics:"
   ]
  },
  {
   "cell_type": "code",
   "execution_count": 11,
   "id": "e8cf6936",
   "metadata": {},
   "outputs": [
    {
     "data": {
      "text/plain": [
       "<Axes: xlabel='nratings', ylabel='Proportion'>"
      ]
     },
     "execution_count": 11,
     "metadata": {},
     "output_type": "execute_result"
    },
    {
     "data": {
      "image/png": "[encoded data removed]",
      "text/plain": [
       "<Figure size 640x480 with 1 Axes>"
      ]
     },
     "metadata": {},
     "output_type": "display_data"
    }
   ],
   "source": [
    "sns.ecdfplot(x=item_stats['nratings'], log_scale=True)"
   ]
  },
  {
   "cell_type": "markdown",
   "id": "32c8dcfa",
   "metadata": {},
   "source": [
    "How many users and items do we have?"
   ]
  },
  {
   "cell_type": "code",
   "execution_count": 13,
   "id": "ea447242",
   "metadata": {},
   "outputs": [
    {
     "data": {
      "text/plain": [
       "user    309781\n",
       "item     55398\n",
       "dtype: int64"
      ]
     },
     "execution_count": 13,
     "metadata": {},
     "output_type": "execute_result"
    }
   ],
   "source": [
    "train[['user', 'item']].nunique()"
   ]
  },
  {
   "cell_type": "markdown",
   "id": "a32d0bc0",
   "metadata": {},
   "source": [
    "## Data Preparation\n",
    "\n",
    "We have already prepared train-test."
   ]
  },
  {
   "cell_type": "markdown",
   "id": "50ffcc88",
   "metadata": {},
   "source": [
    "Now we want the list of test user IDs so we can generate recommendations."
   ]
  },
  {
   "cell_type": "code",
   "execution_count": 14,
   "id": "b627251b",
   "metadata": {},
   "outputs": [
    {
     "data": {
      "text/plain": [
       "array([    79,     87,    305, ..., 869543, 870632, 874209], dtype=int32)"
      ]
     },
     "execution_count": 14,
     "metadata": {},
     "output_type": "execute_result"
    }
   ],
   "source": [
    "test_users = test['user'].unique()\n",
    "test_users"
   ]
  },
  {
   "cell_type": "code",
   "execution_count": 15,
   "id": "308280db",
   "metadata": {},
   "outputs": [
    {
     "data": {
      "text/html": [
       "<div>\n",
       "<style scoped>\n",
       "    .dataframe tbody tr th:only-of-type {\n",
       "        vertical-align: middle;\n",
       "    }\n",
       "\n",
       "    .dataframe tbody tr th {\n",
       "        vertical-align: top;\n",
       "    }\n",
       "\n",
       "    .dataframe thead th {\n",
       "        text-align: right;\n",
       "    }\n",
       "</style>\n",
       "<table border=\"1\" class=\"dataframe\">\n",
       "  <thead>\n",
       "    <tr style=\"text-align: right;\">\n",
       "      <th></th>\n",
       "      <th>user</th>\n",
       "      <th>item</th>\n",
       "    </tr>\n",
       "  </thead>\n",
       "  <tbody>\n",
       "    <tr>\n",
       "      <th>3326749</th>\n",
       "      <td>79</td>\n",
       "      <td>406651006</td>\n",
       "    </tr>\n",
       "    <tr>\n",
       "      <th>5278248</th>\n",
       "      <td>79</td>\n",
       "      <td>420397129</td>\n",
       "    </tr>\n",
       "    <tr>\n",
       "      <th>5781213</th>\n",
       "      <td>79</td>\n",
       "      <td>402422333</td>\n",
       "    </tr>\n",
       "    <tr>\n",
       "      <th>4224759</th>\n",
       "      <td>79</td>\n",
       "      <td>402267189</td>\n",
       "    </tr>\n",
       "    <tr>\n",
       "      <th>5449630</th>\n",
       "      <td>79</td>\n",
       "      <td>402460920</td>\n",
       "    </tr>\n",
       "    <tr>\n",
       "      <th>...</th>\n",
       "      <td>...</td>\n",
       "      <td>...</td>\n",
       "    </tr>\n",
       "    <tr>\n",
       "      <th>23292774</th>\n",
       "      <td>874209</td>\n",
       "      <td>401110983</td>\n",
       "    </tr>\n",
       "    <tr>\n",
       "      <th>22906995</th>\n",
       "      <td>874209</td>\n",
       "      <td>402375385</td>\n",
       "    </tr>\n",
       "    <tr>\n",
       "      <th>23480514</th>\n",
       "      <td>874209</td>\n",
       "      <td>401355172</td>\n",
       "    </tr>\n",
       "    <tr>\n",
       "      <th>25116559</th>\n",
       "      <td>874209</td>\n",
       "      <td>401686217</td>\n",
       "    </tr>\n",
       "    <tr>\n",
       "      <th>24742621</th>\n",
       "      <td>874209</td>\n",
       "      <td>401565818</td>\n",
       "    </tr>\n",
       "  </tbody>\n",
       "</table>\n",
       "<p>12500 rows × 2 columns</p>\n",
       "</div>"
      ],
      "text/plain": [
       "            user       item\n",
       "3326749       79  406651006\n",
       "5278248       79  420397129\n",
       "5781213       79  402422333\n",
       "4224759       79  402267189\n",
       "5449630       79  402460920\n",
       "...          ...        ...\n",
       "23292774  874209  401110983\n",
       "22906995  874209  402375385\n",
       "23480514  874209  401355172\n",
       "25116559  874209  401686217\n",
       "24742621  874209  401565818\n",
       "\n",
       "[12500 rows x 2 columns]"
      ]
     },
     "execution_count": 15,
     "metadata": {},
     "output_type": "execute_result"
    }
   ],
   "source": [
    "test"
   ]
  },
  {
   "cell_type": "markdown",
   "id": "6aa04909",
   "metadata": {},
   "source": [
    "## First Recommendations\n",
    "\n",
    "Let's start with a super simple baseline - most popular:"
   ]
  },
  {
   "cell_type": "code",
   "execution_count": 16,
   "id": "08c98e01",
   "metadata": {},
   "outputs": [],
   "source": [
    "pop = Popular()\n",
    "pop = Recommender.adapt(pop)"
   ]
  },
  {
   "cell_type": "code",
   "execution_count": 17,
   "id": "681dae76",
   "metadata": {},
   "outputs": [
    {
     "name": "stdout",
     "output_type": "stream",
     "text": [
      "[   INFO] lenskit.algorithms.basic trained unrated candidate selector for 25940001 ratings\n"
     ]
    },
    {
     "data": {
      "text/plain": [
       "<lenskit.algorithms.basic.Popular at 0x7f7b32e86e30>"
      ]
     },
     "execution_count": 17,
     "metadata": {},
     "output_type": "execute_result"
    }
   ],
   "source": [
    "pop.fit(train)"
   ]
  },
  {
   "cell_type": "markdown",
   "id": "effef275",
   "metadata": {},
   "source": [
    "And get some recommendations - 100 per user:"
   ]
  },
  {
   "cell_type": "code",
   "execution_count": 18,
   "id": "b7d739f0",
   "metadata": {},
   "outputs": [
    {
     "name": "stdout",
     "output_type": "stream",
     "text": [
      "[   INFO] binpickle.write pickled 963 bytes with 7 buffers\n",
      "[   INFO] lenskit.util.parallel setting up ProcessPoolExecutor w/ 4 workers\n",
      "[   INFO] lenskit.batch._recommend recommending with Popular for 2500 users (n_jobs=None)\n",
      "[   INFO] lenskit.batch._recommend recommended for 2500 users in 10.20s\n"
     ]
    }
   ],
   "source": [
    "N = 100\n",
    "pop_recs = batch.recommend(pop, test_users, N)"
   ]
  },
  {
   "cell_type": "markdown",
   "id": "a1a4f7b8",
   "metadata": {},
   "source": [
    "## Measuring Recommendations\n",
    "\n",
    "Now we want to measure these recommendations.  We need RecListAnalysis:"
   ]
  },
  {
   "cell_type": "code",
   "execution_count": 19,
   "id": "08fed065",
   "metadata": {},
   "outputs": [],
   "source": [
    "rla = topn.RecListAnalysis()\n",
    "rla.add_metric(topn.hit, k=N)\n",
    "rla.add_metric(topn.recall, k=N)\n",
    "rla.add_metric(topn.recip_rank, k=N)\n",
    "rla.add_metric(topn.ndcg, k=N)"
   ]
  },
  {
   "cell_type": "markdown",
   "id": "d5944eca",
   "metadata": {},
   "source": [
    "And compute scores:"
   ]
  },
  {
   "cell_type": "code",
   "execution_count": 20,
   "id": "f95258e0",
   "metadata": {},
   "outputs": [
    {
     "name": "stdout",
     "output_type": "stream",
     "text": [
      "[   INFO] lenskit.topn analyzing 250000 recommendations (12500 truth rows)\n",
      "[   INFO] lenskit.topn using rec key columns ['user']\n",
      "[   INFO] lenskit.topn using truth key columns ['user']\n",
      "[   INFO] lenskit.topn numbering truth lists\n",
      "[   INFO] lenskit.topn numbering rec lists\n",
      "[   INFO] lenskit.topn collecting metric results\n",
      "[   INFO] lenskit.topn measured 2500 lists in  131ms\n",
      "[   INFO] lenskit.topn filling in missing user info (2500 initial rows)\n"
     ]
    },
    {
     "data": {
      "text/html": [
       "<div>\n",
       "<style scoped>\n",
       "    .dataframe tbody tr th:only-of-type {\n",
       "        vertical-align: middle;\n",
       "    }\n",
       "\n",
       "    .dataframe tbody tr th {\n",
       "        vertical-align: top;\n",
       "    }\n",
       "\n",
       "    .dataframe thead th {\n",
       "        text-align: right;\n",
       "    }\n",
       "</style>\n",
       "<table border=\"1\" class=\"dataframe\">\n",
       "  <thead>\n",
       "    <tr style=\"text-align: right;\">\n",
       "      <th></th>\n",
       "      <th>nrecs</th>\n",
       "      <th>hit</th>\n",
       "      <th>recall</th>\n",
       "      <th>recip_rank</th>\n",
       "      <th>ndcg</th>\n",
       "      <th>ntruth</th>\n",
       "    </tr>\n",
       "  </thead>\n",
       "  <tbody>\n",
       "    <tr>\n",
       "      <th>count</th>\n",
       "      <td>2500.0</td>\n",
       "      <td>2500.000000</td>\n",
       "      <td>2500.000000</td>\n",
       "      <td>2500.000000</td>\n",
       "      <td>2500.000000</td>\n",
       "      <td>2500.0</td>\n",
       "    </tr>\n",
       "    <tr>\n",
       "      <th>mean</th>\n",
       "      <td>100.0</td>\n",
       "      <td>0.416800</td>\n",
       "      <td>0.122160</td>\n",
       "      <td>0.051405</td>\n",
       "      <td>0.046875</td>\n",
       "      <td>5.0</td>\n",
       "    </tr>\n",
       "    <tr>\n",
       "      <th>std</th>\n",
       "      <td>0.0</td>\n",
       "      <td>0.493128</td>\n",
       "      <td>0.173485</td>\n",
       "      <td>0.150251</td>\n",
       "      <td>0.079601</td>\n",
       "      <td>0.0</td>\n",
       "    </tr>\n",
       "    <tr>\n",
       "      <th>min</th>\n",
       "      <td>100.0</td>\n",
       "      <td>0.000000</td>\n",
       "      <td>0.000000</td>\n",
       "      <td>0.000000</td>\n",
       "      <td>0.000000</td>\n",
       "      <td>5.0</td>\n",
       "    </tr>\n",
       "    <tr>\n",
       "      <th>25%</th>\n",
       "      <td>100.0</td>\n",
       "      <td>0.000000</td>\n",
       "      <td>0.000000</td>\n",
       "      <td>0.000000</td>\n",
       "      <td>0.000000</td>\n",
       "      <td>5.0</td>\n",
       "    </tr>\n",
       "    <tr>\n",
       "      <th>50%</th>\n",
       "      <td>100.0</td>\n",
       "      <td>0.000000</td>\n",
       "      <td>0.000000</td>\n",
       "      <td>0.000000</td>\n",
       "      <td>0.000000</td>\n",
       "      <td>5.0</td>\n",
       "    </tr>\n",
       "    <tr>\n",
       "      <th>75%</th>\n",
       "      <td>100.0</td>\n",
       "      <td>1.000000</td>\n",
       "      <td>0.200000</td>\n",
       "      <td>0.027976</td>\n",
       "      <td>0.059733</td>\n",
       "      <td>5.0</td>\n",
       "    </tr>\n",
       "    <tr>\n",
       "      <th>max</th>\n",
       "      <td>100.0</td>\n",
       "      <td>1.000000</td>\n",
       "      <td>1.000000</td>\n",
       "      <td>1.000000</td>\n",
       "      <td>0.564986</td>\n",
       "      <td>5.0</td>\n",
       "    </tr>\n",
       "  </tbody>\n",
       "</table>\n",
       "</div>"
      ],
      "text/plain": [
       "        nrecs          hit       recall   recip_rank         ndcg  ntruth\n",
       "count  2500.0  2500.000000  2500.000000  2500.000000  2500.000000  2500.0\n",
       "mean    100.0     0.416800     0.122160     0.051405     0.046875     5.0\n",
       "std       0.0     0.493128     0.173485     0.150251     0.079601     0.0\n",
       "min     100.0     0.000000     0.000000     0.000000     0.000000     5.0\n",
       "25%     100.0     0.000000     0.000000     0.000000     0.000000     5.0\n",
       "50%     100.0     0.000000     0.000000     0.000000     0.000000     5.0\n",
       "75%     100.0     1.000000     0.200000     0.027976     0.059733     5.0\n",
       "max     100.0     1.000000     1.000000     1.000000     0.564986     5.0"
      ]
     },
     "execution_count": 20,
     "metadata": {},
     "output_type": "execute_result"
    }
   ],
   "source": [
    "pop_scores = rla.compute(pop_recs, test, include_missing=True)\n",
    "pop_scores.describe()"
   ]
  },
  {
   "cell_type": "code",
   "execution_count": 21,
   "id": "08aa93ba",
   "metadata": {},
   "outputs": [
    {
     "data": {
      "text/html": [
       "<div>\n",
       "<style scoped>\n",
       "    .dataframe tbody tr th:only-of-type {\n",
       "        vertical-align: middle;\n",
       "    }\n",
       "\n",
       "    .dataframe tbody tr th {\n",
       "        vertical-align: top;\n",
       "    }\n",
       "\n",
       "    .dataframe thead th {\n",
       "        text-align: right;\n",
       "    }\n",
       "</style>\n",
       "<table border=\"1\" class=\"dataframe\">\n",
       "  <thead>\n",
       "    <tr style=\"text-align: right;\">\n",
       "      <th></th>\n",
       "      <th>nrecs</th>\n",
       "      <th>hit</th>\n",
       "      <th>recall</th>\n",
       "      <th>recip_rank</th>\n",
       "      <th>ndcg</th>\n",
       "      <th>ntruth</th>\n",
       "    </tr>\n",
       "    <tr>\n",
       "      <th>user</th>\n",
       "      <th></th>\n",
       "      <th></th>\n",
       "      <th></th>\n",
       "      <th></th>\n",
       "      <th></th>\n",
       "      <th></th>\n",
       "    </tr>\n",
       "  </thead>\n",
       "  <tbody>\n",
       "    <tr>\n",
       "      <th>261665</th>\n",
       "      <td>100</td>\n",
       "      <td>1.0</td>\n",
       "      <td>0.8</td>\n",
       "      <td>0.500000</td>\n",
       "      <td>0.564986</td>\n",
       "      <td>5</td>\n",
       "    </tr>\n",
       "    <tr>\n",
       "      <th>176164</th>\n",
       "      <td>100</td>\n",
       "      <td>1.0</td>\n",
       "      <td>0.8</td>\n",
       "      <td>0.500000</td>\n",
       "      <td>0.519513</td>\n",
       "      <td>5</td>\n",
       "    </tr>\n",
       "    <tr>\n",
       "      <th>674633</th>\n",
       "      <td>100</td>\n",
       "      <td>1.0</td>\n",
       "      <td>0.6</td>\n",
       "      <td>0.500000</td>\n",
       "      <td>0.511421</td>\n",
       "      <td>5</td>\n",
       "    </tr>\n",
       "    <tr>\n",
       "      <th>710905</th>\n",
       "      <td>100</td>\n",
       "      <td>1.0</td>\n",
       "      <td>1.0</td>\n",
       "      <td>0.333333</td>\n",
       "      <td>0.505711</td>\n",
       "      <td>5</td>\n",
       "    </tr>\n",
       "    <tr>\n",
       "      <th>659813</th>\n",
       "      <td>100</td>\n",
       "      <td>1.0</td>\n",
       "      <td>0.8</td>\n",
       "      <td>1.000000</td>\n",
       "      <td>0.482976</td>\n",
       "      <td>5</td>\n",
       "    </tr>\n",
       "  </tbody>\n",
       "</table>\n",
       "</div>"
      ],
      "text/plain": [
       "        nrecs  hit  recall  recip_rank      ndcg  ntruth\n",
       "user                                                    \n",
       "261665    100  1.0     0.8    0.500000  0.564986       5\n",
       "176164    100  1.0     0.8    0.500000  0.519513       5\n",
       "674633    100  1.0     0.6    0.500000  0.511421       5\n",
       "710905    100  1.0     1.0    0.333333  0.505711       5\n",
       "659813    100  1.0     0.8    1.000000  0.482976       5"
      ]
     },
     "execution_count": 21,
     "metadata": {},
     "output_type": "execute_result"
    }
   ],
   "source": [
    "pop_scores.nlargest(5, 'ndcg')"
   ]
  },
  {
   "cell_type": "code",
   "execution_count": 22,
   "id": "980b12ab",
   "metadata": {},
   "outputs": [
    {
     "data": {
      "text/html": [
       "<div>\n",
       "<style scoped>\n",
       "    .dataframe tbody tr th:only-of-type {\n",
       "        vertical-align: middle;\n",
       "    }\n",
       "\n",
       "    .dataframe tbody tr th {\n",
       "        vertical-align: top;\n",
       "    }\n",
       "\n",
       "    .dataframe thead th {\n",
       "        text-align: right;\n",
       "    }\n",
       "</style>\n",
       "<table border=\"1\" class=\"dataframe\">\n",
       "  <thead>\n",
       "    <tr style=\"text-align: right;\">\n",
       "      <th></th>\n",
       "      <th>item</th>\n",
       "      <th>score</th>\n",
       "      <th>user</th>\n",
       "      <th>rank</th>\n",
       "    </tr>\n",
       "  </thead>\n",
       "  <tbody>\n",
       "    <tr>\n",
       "      <th>137100</th>\n",
       "      <td>441107568</td>\n",
       "      <td>52220.0</td>\n",
       "      <td>261665</td>\n",
       "      <td>1</td>\n",
       "    </tr>\n",
       "    <tr>\n",
       "      <th>137101</th>\n",
       "      <td>402792775</td>\n",
       "      <td>40496.0</td>\n",
       "      <td>261665</td>\n",
       "      <td>2</td>\n",
       "    </tr>\n",
       "    <tr>\n",
       "      <th>137102</th>\n",
       "      <td>416827462</td>\n",
       "      <td>39377.0</td>\n",
       "      <td>261665</td>\n",
       "      <td>3</td>\n",
       "    </tr>\n",
       "    <tr>\n",
       "      <th>137103</th>\n",
       "      <td>421825181</td>\n",
       "      <td>37553.0</td>\n",
       "      <td>261665</td>\n",
       "      <td>4</td>\n",
       "    </tr>\n",
       "    <tr>\n",
       "      <th>137104</th>\n",
       "      <td>413306276</td>\n",
       "      <td>35129.0</td>\n",
       "      <td>261665</td>\n",
       "      <td>5</td>\n",
       "    </tr>\n",
       "    <tr>\n",
       "      <th>...</th>\n",
       "      <td>...</td>\n",
       "      <td>...</td>\n",
       "      <td>...</td>\n",
       "      <td>...</td>\n",
       "    </tr>\n",
       "    <tr>\n",
       "      <th>137195</th>\n",
       "      <td>442942273</td>\n",
       "      <td>13209.0</td>\n",
       "      <td>261665</td>\n",
       "      <td>96</td>\n",
       "    </tr>\n",
       "    <tr>\n",
       "      <th>137196</th>\n",
       "      <td>403203964</td>\n",
       "      <td>13133.0</td>\n",
       "      <td>261665</td>\n",
       "      <td>97</td>\n",
       "    </tr>\n",
       "    <tr>\n",
       "      <th>137197</th>\n",
       "      <td>403295655</td>\n",
       "      <td>13070.0</td>\n",
       "      <td>261665</td>\n",
       "      <td>98</td>\n",
       "    </tr>\n",
       "    <tr>\n",
       "      <th>137198</th>\n",
       "      <td>402588213</td>\n",
       "      <td>12986.0</td>\n",
       "      <td>261665</td>\n",
       "      <td>99</td>\n",
       "    </tr>\n",
       "    <tr>\n",
       "      <th>137199</th>\n",
       "      <td>442484814</td>\n",
       "      <td>12922.0</td>\n",
       "      <td>261665</td>\n",
       "      <td>100</td>\n",
       "    </tr>\n",
       "  </tbody>\n",
       "</table>\n",
       "<p>100 rows × 4 columns</p>\n",
       "</div>"
      ],
      "text/plain": [
       "             item    score    user  rank\n",
       "137100  441107568  52220.0  261665     1\n",
       "137101  402792775  40496.0  261665     2\n",
       "137102  416827462  39377.0  261665     3\n",
       "137103  421825181  37553.0  261665     4\n",
       "137104  413306276  35129.0  261665     5\n",
       "...           ...      ...     ...   ...\n",
       "137195  442942273  13209.0  261665    96\n",
       "137196  403203964  13133.0  261665    97\n",
       "137197  403295655  13070.0  261665    98\n",
       "137198  402588213  12986.0  261665    99\n",
       "137199  442484814  12922.0  261665   100\n",
       "\n",
       "[100 rows x 4 columns]"
      ]
     },
     "execution_count": 22,
     "metadata": {},
     "output_type": "execute_result"
    }
   ],
   "source": [
    "top_uid = pop_scores.nlargest(1, 'ndcg').index[0]\n",
    "recs_u = pop_recs[pop_recs['user'] == top_uid]\n",
    "recs_u"
   ]
  },
  {
   "cell_type": "code",
   "execution_count": 23,
   "id": "59fd9b8f",
   "metadata": {},
   "outputs": [
    {
     "data": {
      "text/plain": [
       "item\n",
       "403532896    1\n",
       "402792775    1\n",
       "416827462    1\n",
       "402543657    1\n",
       "402977639    1\n",
       "Name: rating, dtype: int64"
      ]
     },
     "execution_count": 23,
     "metadata": {},
     "output_type": "execute_result"
    }
   ],
   "source": [
    "test_u = test[test['user'] == top_uid].set_index('item').assign(rating=1)['rating']\n",
    "test_u"
   ]
  },
  {
   "cell_type": "code",
   "execution_count": 24,
   "id": "79a4caf0",
   "metadata": {
    "scrolled": false
   },
   "outputs": [
    {
     "data": {
      "text/html": [
       "<div>\n",
       "<style scoped>\n",
       "    .dataframe tbody tr th:only-of-type {\n",
       "        vertical-align: middle;\n",
       "    }\n",
       "\n",
       "    .dataframe tbody tr th {\n",
       "        vertical-align: top;\n",
       "    }\n",
       "\n",
       "    .dataframe thead th {\n",
       "        text-align: right;\n",
       "    }\n",
       "</style>\n",
       "<table border=\"1\" class=\"dataframe\">\n",
       "  <thead>\n",
       "    <tr style=\"text-align: right;\">\n",
       "      <th></th>\n",
       "      <th>item</th>\n",
       "      <th>score</th>\n",
       "      <th>user</th>\n",
       "      <th>rank</th>\n",
       "      <th>rating</th>\n",
       "    </tr>\n",
       "  </thead>\n",
       "  <tbody>\n",
       "    <tr>\n",
       "      <th>137100</th>\n",
       "      <td>441107568</td>\n",
       "      <td>52220.0</td>\n",
       "      <td>261665</td>\n",
       "      <td>1</td>\n",
       "      <td>NaN</td>\n",
       "    </tr>\n",
       "    <tr>\n",
       "      <th>137101</th>\n",
       "      <td>402792775</td>\n",
       "      <td>40496.0</td>\n",
       "      <td>261665</td>\n",
       "      <td>2</td>\n",
       "      <td>1.0</td>\n",
       "    </tr>\n",
       "    <tr>\n",
       "      <th>137102</th>\n",
       "      <td>416827462</td>\n",
       "      <td>39377.0</td>\n",
       "      <td>261665</td>\n",
       "      <td>3</td>\n",
       "      <td>1.0</td>\n",
       "    </tr>\n",
       "    <tr>\n",
       "      <th>137103</th>\n",
       "      <td>421825181</td>\n",
       "      <td>37553.0</td>\n",
       "      <td>261665</td>\n",
       "      <td>4</td>\n",
       "      <td>NaN</td>\n",
       "    </tr>\n",
       "    <tr>\n",
       "      <th>137104</th>\n",
       "      <td>413306276</td>\n",
       "      <td>35129.0</td>\n",
       "      <td>261665</td>\n",
       "      <td>5</td>\n",
       "      <td>NaN</td>\n",
       "    </tr>\n",
       "    <tr>\n",
       "      <th>137105</th>\n",
       "      <td>400878368</td>\n",
       "      <td>34887.0</td>\n",
       "      <td>261665</td>\n",
       "      <td>6</td>\n",
       "      <td>NaN</td>\n",
       "    </tr>\n",
       "    <tr>\n",
       "      <th>137106</th>\n",
       "      <td>425491300</td>\n",
       "      <td>33261.0</td>\n",
       "      <td>261665</td>\n",
       "      <td>7</td>\n",
       "      <td>NaN</td>\n",
       "    </tr>\n",
       "    <tr>\n",
       "      <th>137107</th>\n",
       "      <td>403364505</td>\n",
       "      <td>32861.0</td>\n",
       "      <td>261665</td>\n",
       "      <td>8</td>\n",
       "      <td>NaN</td>\n",
       "    </tr>\n",
       "    <tr>\n",
       "      <th>137108</th>\n",
       "      <td>413155899</td>\n",
       "      <td>30894.0</td>\n",
       "      <td>261665</td>\n",
       "      <td>9</td>\n",
       "      <td>NaN</td>\n",
       "    </tr>\n",
       "    <tr>\n",
       "      <th>137109</th>\n",
       "      <td>402402163</td>\n",
       "      <td>29043.0</td>\n",
       "      <td>261665</td>\n",
       "      <td>10</td>\n",
       "      <td>NaN</td>\n",
       "    </tr>\n",
       "  </tbody>\n",
       "</table>\n",
       "</div>"
      ],
      "text/plain": [
       "             item    score    user  rank  rating\n",
       "137100  441107568  52220.0  261665     1     NaN\n",
       "137101  402792775  40496.0  261665     2     1.0\n",
       "137102  416827462  39377.0  261665     3     1.0\n",
       "137103  421825181  37553.0  261665     4     NaN\n",
       "137104  413306276  35129.0  261665     5     NaN\n",
       "137105  400878368  34887.0  261665     6     NaN\n",
       "137106  425491300  33261.0  261665     7     NaN\n",
       "137107  403364505  32861.0  261665     8     NaN\n",
       "137108  413155899  30894.0  261665     9     NaN\n",
       "137109  402402163  29043.0  261665    10     NaN"
      ]
     },
     "execution_count": 24,
     "metadata": {},
     "output_type": "execute_result"
    }
   ],
   "source": [
    "recs_u = recs_u.join(test_u, on='item')\n",
    "recs_u.iloc[:10, :]"
   ]
  },
  {
   "cell_type": "code",
   "execution_count": 25,
   "id": "d7fa69d5",
   "metadata": {},
   "outputs": [
    {
     "data": {
      "text/html": [
       "<div>\n",
       "<style scoped>\n",
       "    .dataframe tbody tr th:only-of-type {\n",
       "        vertical-align: middle;\n",
       "    }\n",
       "\n",
       "    .dataframe tbody tr th {\n",
       "        vertical-align: top;\n",
       "    }\n",
       "\n",
       "    .dataframe thead th {\n",
       "        text-align: right;\n",
       "    }\n",
       "</style>\n",
       "<table border=\"1\" class=\"dataframe\">\n",
       "  <thead>\n",
       "    <tr style=\"text-align: right;\">\n",
       "      <th></th>\n",
       "      <th>item</th>\n",
       "      <th>score</th>\n",
       "      <th>user</th>\n",
       "      <th>rank</th>\n",
       "      <th>rating</th>\n",
       "      <th>discount</th>\n",
       "    </tr>\n",
       "  </thead>\n",
       "  <tbody>\n",
       "    <tr>\n",
       "      <th>137100</th>\n",
       "      <td>441107568</td>\n",
       "      <td>52220.0</td>\n",
       "      <td>261665</td>\n",
       "      <td>1</td>\n",
       "      <td>NaN</td>\n",
       "      <td>1.000000</td>\n",
       "    </tr>\n",
       "    <tr>\n",
       "      <th>137101</th>\n",
       "      <td>402792775</td>\n",
       "      <td>40496.0</td>\n",
       "      <td>261665</td>\n",
       "      <td>2</td>\n",
       "      <td>1.0</td>\n",
       "      <td>1.000000</td>\n",
       "    </tr>\n",
       "    <tr>\n",
       "      <th>137102</th>\n",
       "      <td>416827462</td>\n",
       "      <td>39377.0</td>\n",
       "      <td>261665</td>\n",
       "      <td>3</td>\n",
       "      <td>1.0</td>\n",
       "      <td>0.630930</td>\n",
       "    </tr>\n",
       "    <tr>\n",
       "      <th>137103</th>\n",
       "      <td>421825181</td>\n",
       "      <td>37553.0</td>\n",
       "      <td>261665</td>\n",
       "      <td>4</td>\n",
       "      <td>NaN</td>\n",
       "      <td>0.500000</td>\n",
       "    </tr>\n",
       "    <tr>\n",
       "      <th>137104</th>\n",
       "      <td>413306276</td>\n",
       "      <td>35129.0</td>\n",
       "      <td>261665</td>\n",
       "      <td>5</td>\n",
       "      <td>NaN</td>\n",
       "      <td>0.430677</td>\n",
       "    </tr>\n",
       "    <tr>\n",
       "      <th>...</th>\n",
       "      <td>...</td>\n",
       "      <td>...</td>\n",
       "      <td>...</td>\n",
       "      <td>...</td>\n",
       "      <td>...</td>\n",
       "      <td>...</td>\n",
       "    </tr>\n",
       "    <tr>\n",
       "      <th>137195</th>\n",
       "      <td>442942273</td>\n",
       "      <td>13209.0</td>\n",
       "      <td>261665</td>\n",
       "      <td>96</td>\n",
       "      <td>NaN</td>\n",
       "      <td>0.151861</td>\n",
       "    </tr>\n",
       "    <tr>\n",
       "      <th>137196</th>\n",
       "      <td>403203964</td>\n",
       "      <td>13133.0</td>\n",
       "      <td>261665</td>\n",
       "      <td>97</td>\n",
       "      <td>NaN</td>\n",
       "      <td>0.151517</td>\n",
       "    </tr>\n",
       "    <tr>\n",
       "      <th>137197</th>\n",
       "      <td>403295655</td>\n",
       "      <td>13070.0</td>\n",
       "      <td>261665</td>\n",
       "      <td>98</td>\n",
       "      <td>NaN</td>\n",
       "      <td>0.151178</td>\n",
       "    </tr>\n",
       "    <tr>\n",
       "      <th>137198</th>\n",
       "      <td>402588213</td>\n",
       "      <td>12986.0</td>\n",
       "      <td>261665</td>\n",
       "      <td>99</td>\n",
       "      <td>NaN</td>\n",
       "      <td>0.150844</td>\n",
       "    </tr>\n",
       "    <tr>\n",
       "      <th>137199</th>\n",
       "      <td>442484814</td>\n",
       "      <td>12922.0</td>\n",
       "      <td>261665</td>\n",
       "      <td>100</td>\n",
       "      <td>NaN</td>\n",
       "      <td>0.150515</td>\n",
       "    </tr>\n",
       "  </tbody>\n",
       "</table>\n",
       "<p>100 rows × 6 columns</p>\n",
       "</div>"
      ],
      "text/plain": [
       "             item    score    user  rank  rating  discount\n",
       "137100  441107568  52220.0  261665     1     NaN  1.000000\n",
       "137101  402792775  40496.0  261665     2     1.0  1.000000\n",
       "137102  416827462  39377.0  261665     3     1.0  0.630930\n",
       "137103  421825181  37553.0  261665     4     NaN  0.500000\n",
       "137104  413306276  35129.0  261665     5     NaN  0.430677\n",
       "...           ...      ...     ...   ...     ...       ...\n",
       "137195  442942273  13209.0  261665    96     NaN  0.151861\n",
       "137196  403203964  13133.0  261665    97     NaN  0.151517\n",
       "137197  403295655  13070.0  261665    98     NaN  0.151178\n",
       "137198  402588213  12986.0  261665    99     NaN  0.150844\n",
       "137199  442484814  12922.0  261665   100     NaN  0.150515\n",
       "\n",
       "[100 rows x 6 columns]"
      ]
     },
     "execution_count": 25,
     "metadata": {},
     "output_type": "execute_result"
    }
   ],
   "source": [
    "recs_u['discount'] = np.reciprocal(np.log2(np.maximum(recs_u['rank'], 2)))\n",
    "recs_u"
   ]
  },
  {
   "cell_type": "code",
   "execution_count": 26,
   "id": "94435a01",
   "metadata": {},
   "outputs": [
    {
     "data": {
      "text/plain": [
       "1.6309297535714575"
      ]
     },
     "execution_count": 26,
     "metadata": {},
     "output_type": "execute_result"
    }
   ],
   "source": [
    "dcg = np.sum(recs_u.iloc[:10]['rating'] * recs_u.iloc[:10]['discount'])\n",
    "dcg"
   ]
  },
  {
   "cell_type": "code",
   "execution_count": 27,
   "id": "fcec1dd2",
   "metadata": {},
   "outputs": [
    {
     "data": {
      "text/plain": [
       "item\n",
       "403532896    1\n",
       "402792775    1\n",
       "416827462    1\n",
       "402543657    1\n",
       "402977639    1\n",
       "Name: rating, dtype: int64"
      ]
     },
     "execution_count": 27,
     "metadata": {},
     "output_type": "execute_result"
    }
   ],
   "source": [
    "ideal = test_u.sort_values(ascending=False)\n",
    "ideal"
   ]
  },
  {
   "cell_type": "code",
   "execution_count": 28,
   "id": "4fc4faa8",
   "metadata": {},
   "outputs": [
    {
     "data": {
      "text/plain": [
       "array([1.        , 1.        , 0.63092975, 0.5       , 0.43067656])"
      ]
     },
     "execution_count": 28,
     "metadata": {},
     "output_type": "execute_result"
    }
   ],
   "source": [
    "ideal_disc = np.reciprocal(np.log2(np.maximum(np.arange(5) + 1, 2)))\n",
    "ideal_disc"
   ]
  },
  {
   "cell_type": "code",
   "execution_count": 29,
   "id": "d7237683",
   "metadata": {},
   "outputs": [
    {
     "data": {
      "text/plain": [
       "3.5616063116448506"
      ]
     },
     "execution_count": 29,
     "metadata": {},
     "output_type": "execute_result"
    }
   ],
   "source": [
    "ideal_dcg = np.sum(ideal * ideal_disc)\n",
    "ideal_dcg"
   ]
  },
  {
   "cell_type": "code",
   "execution_count": 30,
   "id": "dc537a54",
   "metadata": {},
   "outputs": [
    {
     "data": {
      "text/plain": [
       "0.45791971679717963"
      ]
     },
     "execution_count": 30,
     "metadata": {},
     "output_type": "execute_result"
    }
   ],
   "source": [
    "dcg / ideal_dcg"
   ]
  },
  {
   "cell_type": "markdown",
   "id": "c463224a",
   "metadata": {},
   "source": [
    "## Another Algorithm\n",
    "\n",
    "Now let's get some real recommendations - item-item *k*-NN in implicit feedback mode:"
   ]
  },
  {
   "cell_type": "code",
   "execution_count": 31,
   "id": "7bdd338e",
   "metadata": {},
   "outputs": [],
   "source": [
    "iknn = ItemItem(20, feedback='implicit', min_nbrs=2, min_sim=0.01, save_nbrs=5000)\n",
    "iknn = Recommender.adapt(iknn)"
   ]
  },
  {
   "cell_type": "code",
   "execution_count": 32,
   "id": "4e1aa4cb",
   "metadata": {},
   "outputs": [
    {
     "name": "stdout",
     "output_type": "stream",
     "text": [
      "[   INFO] lenskit.util.debug opening self DLL\n",
      "[   INFO] lenskit.util.debug numba threading layer: tbb\n",
      "[   INFO] lenskit.util.debug Numba and BLAS both using TBB - good\n",
      "[   INFO] lenskit.algorithms.item_knn [4.74s] made sparse matrix for 55398 items (25940001 ratings from 309781 users)\n",
      "[   INFO] lenskit.algorithms.item_knn [6.52s] normalized rating matrix columns\n",
      "[   INFO] lenskit.algorithms.item_knn [6.63s] computing similarity matrix\n",
      "[   INFO] lenskit.algorithms.item_knn [7.63s] splitting 55398 items (25940001 ratings) into 56 blocks\n",
      "[   INFO] lenskit.algorithms.item_knn [7.81s] computing similarities\n",
      "[   INFO] lenskit.algorithms.item_knn [1m43.42s] computed 265948021 similarities for 55398 items in 56 blocks\n",
      "[   INFO] lenskit.algorithms.item_knn [1m43.84s] sorting similarity matrix with 265948021 entries\n",
      "[   INFO] lenskit.algorithms.item_knn [1m48.85s] got neighborhoods for 55398 of 55398 items\n",
      "[   INFO] lenskit.algorithms.item_knn [1m48.85s] computed 265948021 neighbor pairs\n",
      "[   INFO] lenskit.algorithms.item_knn [1m54.35s] transposed matrix for optimization\n",
      "[   INFO] lenskit.algorithms.basic trained unrated candidate selector for 25940001 ratings\n"
     ]
    }
   ],
   "source": [
    "iknn = iknn.fit(train, save_nbrs=10000)\n",
    "None # keep ipython from saving a reference to the model"
   ]
  },
  {
   "cell_type": "markdown",
   "id": "79e59706",
   "metadata": {},
   "source": [
    "Can we get some recommendations?"
   ]
  },
  {
   "cell_type": "code",
   "execution_count": 33,
   "id": "6deb6b9d",
   "metadata": {},
   "outputs": [
    {
     "data": {
      "text/html": [
       "<div>\n",
       "<style scoped>\n",
       "    .dataframe tbody tr th:only-of-type {\n",
       "        vertical-align: middle;\n",
       "    }\n",
       "\n",
       "    .dataframe tbody tr th {\n",
       "        vertical-align: top;\n",
       "    }\n",
       "\n",
       "    .dataframe thead th {\n",
       "        text-align: right;\n",
       "    }\n",
       "</style>\n",
       "<table border=\"1\" class=\"dataframe\">\n",
       "  <thead>\n",
       "    <tr style=\"text-align: right;\">\n",
       "      <th></th>\n",
       "      <th>item</th>\n",
       "      <th>score</th>\n",
       "    </tr>\n",
       "  </thead>\n",
       "  <tbody>\n",
       "    <tr>\n",
       "      <th>0</th>\n",
       "      <td>406651006</td>\n",
       "      <td>7.603953</td>\n",
       "    </tr>\n",
       "    <tr>\n",
       "      <th>1</th>\n",
       "      <td>442940024</td>\n",
       "      <td>7.504183</td>\n",
       "    </tr>\n",
       "    <tr>\n",
       "      <th>2</th>\n",
       "      <td>442940027</td>\n",
       "      <td>7.342818</td>\n",
       "    </tr>\n",
       "    <tr>\n",
       "      <th>3</th>\n",
       "      <td>402267189</td>\n",
       "      <td>7.292381</td>\n",
       "    </tr>\n",
       "    <tr>\n",
       "      <th>4</th>\n",
       "      <td>442940029</td>\n",
       "      <td>7.284626</td>\n",
       "    </tr>\n",
       "  </tbody>\n",
       "</table>\n",
       "</div>"
      ],
      "text/plain": [
       "        item     score\n",
       "0  406651006  7.603953\n",
       "1  442940024  7.504183\n",
       "2  442940027  7.342818\n",
       "3  402267189  7.292381\n",
       "4  442940029  7.284626"
      ]
     },
     "execution_count": 33,
     "metadata": {},
     "output_type": "execute_result"
    }
   ],
   "source": [
    "iknn.recommend(test_users[0], 5)"
   ]
  },
  {
   "cell_type": "markdown",
   "id": "b0c61c00",
   "metadata": {},
   "source": [
    "Now generate recommendations:"
   ]
  },
  {
   "cell_type": "code",
   "execution_count": 34,
   "id": "91c248d2",
   "metadata": {},
   "outputs": [
    {
     "name": "stdout",
     "output_type": "stream",
     "text": [
      "[   INFO] binpickle.write pickled 1212 bytes with 15 buffers\n",
      "[   INFO] lenskit.util.parallel setting up ProcessPoolExecutor w/ 4 workers\n",
      "[   INFO] lenskit.batch._recommend recommending with TopN/ItemItem(nnbrs=20, msize=5000) for 2500 users (n_jobs=None)\n",
      "[   INFO] lenskit.batch._recommend recommended for 2500 users in 47.98s\n"
     ]
    }
   ],
   "source": [
    "iknn_recs = batch.recommend(iknn, test_users, N)"
   ]
  },
  {
   "cell_type": "markdown",
   "id": "8418f34d",
   "metadata": {},
   "source": [
    "And score them:"
   ]
  },
  {
   "cell_type": "code",
   "execution_count": 35,
   "id": "18e7b7f1",
   "metadata": {},
   "outputs": [
    {
     "name": "stdout",
     "output_type": "stream",
     "text": [
      "[   INFO] lenskit.topn analyzing 250000 recommendations (12500 truth rows)\n",
      "[   INFO] lenskit.topn using rec key columns ['user']\n",
      "[   INFO] lenskit.topn using truth key columns ['user']\n",
      "[   INFO] lenskit.topn numbering truth lists\n",
      "[   INFO] lenskit.topn numbering rec lists\n",
      "[   INFO] lenskit.topn collecting metric results\n",
      "[   INFO] lenskit.topn measured 2500 lists in  159ms\n",
      "[   INFO] lenskit.topn filling in missing user info (2500 initial rows)\n"
     ]
    },
    {
     "data": {
      "text/html": [
       "<div>\n",
       "<style scoped>\n",
       "    .dataframe tbody tr th:only-of-type {\n",
       "        vertical-align: middle;\n",
       "    }\n",
       "\n",
       "    .dataframe tbody tr th {\n",
       "        vertical-align: top;\n",
       "    }\n",
       "\n",
       "    .dataframe thead th {\n",
       "        text-align: right;\n",
       "    }\n",
       "</style>\n",
       "<table border=\"1\" class=\"dataframe\">\n",
       "  <thead>\n",
       "    <tr style=\"text-align: right;\">\n",
       "      <th></th>\n",
       "      <th>nrecs</th>\n",
       "      <th>hit</th>\n",
       "      <th>recall</th>\n",
       "      <th>recip_rank</th>\n",
       "      <th>ndcg</th>\n",
       "      <th>ntruth</th>\n",
       "    </tr>\n",
       "  </thead>\n",
       "  <tbody>\n",
       "    <tr>\n",
       "      <th>count</th>\n",
       "      <td>2500.0</td>\n",
       "      <td>2500.00000</td>\n",
       "      <td>2500.000000</td>\n",
       "      <td>2500.000000</td>\n",
       "      <td>2500.000000</td>\n",
       "      <td>2500.0</td>\n",
       "    </tr>\n",
       "    <tr>\n",
       "      <th>mean</th>\n",
       "      <td>100.0</td>\n",
       "      <td>0.79000</td>\n",
       "      <td>0.339680</td>\n",
       "      <td>0.297052</td>\n",
       "      <td>0.197402</td>\n",
       "      <td>5.0</td>\n",
       "    </tr>\n",
       "    <tr>\n",
       "      <th>std</th>\n",
       "      <td>0.0</td>\n",
       "      <td>0.40739</td>\n",
       "      <td>0.266064</td>\n",
       "      <td>0.387059</td>\n",
       "      <td>0.202913</td>\n",
       "      <td>0.0</td>\n",
       "    </tr>\n",
       "    <tr>\n",
       "      <th>min</th>\n",
       "      <td>100.0</td>\n",
       "      <td>0.00000</td>\n",
       "      <td>0.000000</td>\n",
       "      <td>0.000000</td>\n",
       "      <td>0.000000</td>\n",
       "      <td>5.0</td>\n",
       "    </tr>\n",
       "    <tr>\n",
       "      <th>25%</th>\n",
       "      <td>100.0</td>\n",
       "      <td>1.00000</td>\n",
       "      <td>0.200000</td>\n",
       "      <td>0.014286</td>\n",
       "      <td>0.046083</td>\n",
       "      <td>5.0</td>\n",
       "    </tr>\n",
       "    <tr>\n",
       "      <th>50%</th>\n",
       "      <td>100.0</td>\n",
       "      <td>1.00000</td>\n",
       "      <td>0.400000</td>\n",
       "      <td>0.076923</td>\n",
       "      <td>0.125489</td>\n",
       "      <td>5.0</td>\n",
       "    </tr>\n",
       "    <tr>\n",
       "      <th>75%</th>\n",
       "      <td>100.0</td>\n",
       "      <td>1.00000</td>\n",
       "      <td>0.600000</td>\n",
       "      <td>0.500000</td>\n",
       "      <td>0.305530</td>\n",
       "      <td>5.0</td>\n",
       "    </tr>\n",
       "    <tr>\n",
       "      <th>max</th>\n",
       "      <td>100.0</td>\n",
       "      <td>1.00000</td>\n",
       "      <td>1.000000</td>\n",
       "      <td>1.000000</td>\n",
       "      <td>1.000000</td>\n",
       "      <td>5.0</td>\n",
       "    </tr>\n",
       "  </tbody>\n",
       "</table>\n",
       "</div>"
      ],
      "text/plain": [
       "        nrecs         hit       recall   recip_rank         ndcg  ntruth\n",
       "count  2500.0  2500.00000  2500.000000  2500.000000  2500.000000  2500.0\n",
       "mean    100.0     0.79000     0.339680     0.297052     0.197402     5.0\n",
       "std       0.0     0.40739     0.266064     0.387059     0.202913     0.0\n",
       "min     100.0     0.00000     0.000000     0.000000     0.000000     5.0\n",
       "25%     100.0     1.00000     0.200000     0.014286     0.046083     5.0\n",
       "50%     100.0     1.00000     0.400000     0.076923     0.125489     5.0\n",
       "75%     100.0     1.00000     0.600000     0.500000     0.305530     5.0\n",
       "max     100.0     1.00000     1.000000     1.000000     1.000000     5.0"
      ]
     },
     "execution_count": 35,
     "metadata": {},
     "output_type": "execute_result"
    }
   ],
   "source": [
    "iknn_scores = rla.compute(iknn_recs, test, include_missing=True)\n",
    "iknn_scores.describe()"
   ]
  },
  {
   "cell_type": "markdown",
   "id": "02ede586",
   "metadata": {},
   "source": [
    "## And a Third\n",
    "\n",
    "Implicit ALS."
   ]
  },
  {
   "cell_type": "code",
   "execution_count": 36,
   "id": "eb35e29b",
   "metadata": {
    "scrolled": false
   },
   "outputs": [
    {
     "name": "stdout",
     "output_type": "stream",
     "text": [
      "[   INFO] lenskit.algorithms.als [5.01s] training implicit MF model with ALS for 100 features\n",
      "[   INFO] lenskit.algorithms.als have 25940001 observations for 309781 users and 55398 items\n",
      "[   INFO] lenskit.algorithms.als [24.53s] finished epoch 0 (|ΔP|=713.877, |ΔQ|=1388.439)\n",
      "[   INFO] lenskit.algorithms.als [31.97s] finished epoch 1 (|ΔP|=36.110, |ΔQ|=475.924)\n",
      "[   INFO] lenskit.algorithms.als [39.81s] finished epoch 2 (|ΔP|=20.729, |ΔQ|=332.427)\n",
      "[   INFO] lenskit.algorithms.als [46.06s] finished epoch 3 (|ΔP|=14.400, |ΔQ|=230.641)\n",
      "[   INFO] lenskit.algorithms.als [53.17s] finished epoch 4 (|ΔP|=10.176, |ΔQ|=143.085)\n",
      "[   INFO] lenskit.algorithms.als [59.81s] finished epoch 5 (|ΔP|=7.550, |ΔQ|=120.339)\n",
      "[   INFO] lenskit.algorithms.als [1m6.32s] finished epoch 6 (|ΔP|=5.835, |ΔQ|=93.126)\n",
      "[   INFO] lenskit.algorithms.als [1m14.14s] finished epoch 7 (|ΔP|=4.349, |ΔQ|=75.182)\n",
      "[   INFO] lenskit.algorithms.als [1m20.27s] finished epoch 8 (|ΔP|=3.897, |ΔQ|=56.446)\n",
      "[   INFO] lenskit.algorithms.als [1m29.29s] finished epoch 9 (|ΔP|=3.309, |ΔQ|=53.045)\n",
      "[   INFO] lenskit.algorithms.als [1m37.61s] finished epoch 10 (|ΔP|=2.858, |ΔQ|=44.727)\n",
      "[   INFO] lenskit.algorithms.als [1m46.57s] finished epoch 11 (|ΔP|=2.502, |ΔQ|=35.563)\n",
      "[   INFO] lenskit.algorithms.als [1m55.60s] finished epoch 12 (|ΔP|=2.219, |ΔQ|=35.410)\n",
      "[   INFO] lenskit.algorithms.als [2m4.16s] finished epoch 13 (|ΔP|=1.985, |ΔQ|=31.623)\n",
      "[   INFO] lenskit.algorithms.als [2m12.79s] finished epoch 14 (|ΔP|=1.793, |ΔQ|=28.454)\n",
      "[   INFO] lenskit.algorithms.als [2m21.11s] finished epoch 15 (|ΔP|=1.631, |ΔQ|=25.796)\n",
      "[   INFO] lenskit.algorithms.als [2m31.10s] finished epoch 16 (|ΔP|=1.416, |ΔQ|=23.533)\n",
      "[   INFO] lenskit.algorithms.als [2m39.08s] finished epoch 17 (|ΔP|=1.375, |ΔQ|=21.576)\n",
      "[   INFO] lenskit.algorithms.als [2m47.88s] finished epoch 18 (|ΔP|=1.188, |ΔQ|=19.898)\n",
      "[   INFO] lenskit.algorithms.als [2m56.17s] finished epoch 19 (|ΔP|=1.184, |ΔQ|=18.410)\n",
      "[   INFO] lenskit.algorithms.als [2m56.19s] finished training model with 100 features (|P|=714.103317, |Q|=1441.996568)\n",
      "[   INFO] lenskit.algorithms.basic trained unrated candidate selector for 25940001 ratings\n",
      "TopN/als.ImplicitMF(features=100, reg=(4, 0.3), w=25)\n"
     ]
    }
   ],
   "source": [
    "ials = ImplicitMF(100, reg=(4, 0.3), weight=25, use_ratings=False)\n",
    "ials = Recommender.adapt(ials)\n",
    "ials.fit(train)\n",
    "print(ials)"
   ]
  },
  {
   "cell_type": "markdown",
   "id": "45cfca3b",
   "metadata": {},
   "source": [
    "And make and score recs:"
   ]
  },
  {
   "cell_type": "code",
   "execution_count": 37,
   "id": "0a792b30",
   "metadata": {
    "scrolled": false
   },
   "outputs": [
    {
     "name": "stdout",
     "output_type": "stream",
     "text": [
      "[   INFO] binpickle.write pickled 1238 bytes with 9 buffers\n",
      "[   INFO] lenskit.util.parallel setting up ProcessPoolExecutor w/ 4 workers\n",
      "[   INFO] lenskit.batch._recommend recommending with TopN/als.ImplicitMF(features=100, reg=(4, 0.3), w=25) for 2500 users (n_jobs=None)\n",
      "[   INFO] lenskit.batch._recommend recommended for 2500 users in 26.17s\n",
      "[   INFO] lenskit.topn analyzing 250000 recommendations (12500 truth rows)\n",
      "[   INFO] lenskit.topn using rec key columns ['user']\n",
      "[   INFO] lenskit.topn using truth key columns ['user']\n",
      "[   INFO] lenskit.topn numbering truth lists\n",
      "[   INFO] lenskit.topn numbering rec lists\n",
      "[   INFO] lenskit.topn collecting metric results\n",
      "[   INFO] lenskit.topn measured 2500 lists in  258ms\n",
      "[   INFO] lenskit.topn filling in missing user info (2500 initial rows)\n"
     ]
    },
    {
     "data": {
      "text/html": [
       "<div>\n",
       "<style scoped>\n",
       "    .dataframe tbody tr th:only-of-type {\n",
       "        vertical-align: middle;\n",
       "    }\n",
       "\n",
       "    .dataframe tbody tr th {\n",
       "        vertical-align: top;\n",
       "    }\n",
       "\n",
       "    .dataframe thead th {\n",
       "        text-align: right;\n",
       "    }\n",
       "</style>\n",
       "<table border=\"1\" class=\"dataframe\">\n",
       "  <thead>\n",
       "    <tr style=\"text-align: right;\">\n",
       "      <th></th>\n",
       "      <th>nrecs</th>\n",
       "      <th>hit</th>\n",
       "      <th>recall</th>\n",
       "      <th>recip_rank</th>\n",
       "      <th>ndcg</th>\n",
       "      <th>ntruth</th>\n",
       "    </tr>\n",
       "  </thead>\n",
       "  <tbody>\n",
       "    <tr>\n",
       "      <th>count</th>\n",
       "      <td>2500.0</td>\n",
       "      <td>2500.000000</td>\n",
       "      <td>2500.000000</td>\n",
       "      <td>2500.000000</td>\n",
       "      <td>2500.000000</td>\n",
       "      <td>2500.0</td>\n",
       "    </tr>\n",
       "    <tr>\n",
       "      <th>mean</th>\n",
       "      <td>100.0</td>\n",
       "      <td>0.795200</td>\n",
       "      <td>0.334400</td>\n",
       "      <td>0.195014</td>\n",
       "      <td>0.156091</td>\n",
       "      <td>5.0</td>\n",
       "    </tr>\n",
       "    <tr>\n",
       "      <th>std</th>\n",
       "      <td>0.0</td>\n",
       "      <td>0.403636</td>\n",
       "      <td>0.258448</td>\n",
       "      <td>0.308233</td>\n",
       "      <td>0.163384</td>\n",
       "      <td>0.0</td>\n",
       "    </tr>\n",
       "    <tr>\n",
       "      <th>min</th>\n",
       "      <td>100.0</td>\n",
       "      <td>0.000000</td>\n",
       "      <td>0.000000</td>\n",
       "      <td>0.000000</td>\n",
       "      <td>0.000000</td>\n",
       "      <td>5.0</td>\n",
       "    </tr>\n",
       "    <tr>\n",
       "      <th>25%</th>\n",
       "      <td>100.0</td>\n",
       "      <td>1.000000</td>\n",
       "      <td>0.200000</td>\n",
       "      <td>0.012945</td>\n",
       "      <td>0.045076</td>\n",
       "      <td>5.0</td>\n",
       "    </tr>\n",
       "    <tr>\n",
       "      <th>50%</th>\n",
       "      <td>100.0</td>\n",
       "      <td>1.000000</td>\n",
       "      <td>0.400000</td>\n",
       "      <td>0.047619</td>\n",
       "      <td>0.105153</td>\n",
       "      <td>5.0</td>\n",
       "    </tr>\n",
       "    <tr>\n",
       "      <th>75%</th>\n",
       "      <td>100.0</td>\n",
       "      <td>1.000000</td>\n",
       "      <td>0.600000</td>\n",
       "      <td>0.200000</td>\n",
       "      <td>0.228195</td>\n",
       "      <td>5.0</td>\n",
       "    </tr>\n",
       "    <tr>\n",
       "      <th>max</th>\n",
       "      <td>100.0</td>\n",
       "      <td>1.000000</td>\n",
       "      <td>1.000000</td>\n",
       "      <td>1.000000</td>\n",
       "      <td>1.000000</td>\n",
       "      <td>5.0</td>\n",
       "    </tr>\n",
       "  </tbody>\n",
       "</table>\n",
       "</div>"
      ],
      "text/plain": [
       "        nrecs          hit       recall   recip_rank         ndcg  ntruth\n",
       "count  2500.0  2500.000000  2500.000000  2500.000000  2500.000000  2500.0\n",
       "mean    100.0     0.795200     0.334400     0.195014     0.156091     5.0\n",
       "std       0.0     0.403636     0.258448     0.308233     0.163384     0.0\n",
       "min     100.0     0.000000     0.000000     0.000000     0.000000     5.0\n",
       "25%     100.0     1.000000     0.200000     0.012945     0.045076     5.0\n",
       "50%     100.0     1.000000     0.400000     0.047619     0.105153     5.0\n",
       "75%     100.0     1.000000     0.600000     0.200000     0.228195     5.0\n",
       "max     100.0     1.000000     1.000000     1.000000     1.000000     5.0"
      ]
     },
     "execution_count": 37,
     "metadata": {},
     "output_type": "execute_result"
    }
   ],
   "source": [
    "ials_recs = batch.recommend(ials, test_users, N)\n",
    "ials_scores = rla.compute(ials_recs, test, include_missing=True)\n",
    "ials_scores.describe()"
   ]
  },
  {
   "cell_type": "markdown",
   "id": "3017feef",
   "metadata": {},
   "source": [
    "## Overall Results\n",
    "\n",
    "Let's see the results together!"
   ]
  },
  {
   "cell_type": "code",
   "execution_count": 40,
   "id": "fbba44d5",
   "metadata": {},
   "outputs": [
    {
     "data": {
      "text/html": [
       "<div>\n",
       "<style scoped>\n",
       "    .dataframe tbody tr th:only-of-type {\n",
       "        vertical-align: middle;\n",
       "    }\n",
       "\n",
       "    .dataframe tbody tr th {\n",
       "        vertical-align: top;\n",
       "    }\n",
       "\n",
       "    .dataframe thead th {\n",
       "        text-align: right;\n",
       "    }\n",
       "</style>\n",
       "<table border=\"1\" class=\"dataframe\">\n",
       "  <thead>\n",
       "    <tr style=\"text-align: right;\">\n",
       "      <th></th>\n",
       "      <th>Algorithm</th>\n",
       "      <th>user</th>\n",
       "      <th>nrecs</th>\n",
       "      <th>hit</th>\n",
       "      <th>recall</th>\n",
       "      <th>recip_rank</th>\n",
       "      <th>ndcg</th>\n",
       "      <th>ntruth</th>\n",
       "    </tr>\n",
       "  </thead>\n",
       "  <tbody>\n",
       "    <tr>\n",
       "      <th>0</th>\n",
       "      <td>Pop</td>\n",
       "      <td>79</td>\n",
       "      <td>100</td>\n",
       "      <td>1.0</td>\n",
       "      <td>0.4</td>\n",
       "      <td>0.047619</td>\n",
       "      <td>0.107502</td>\n",
       "      <td>5</td>\n",
       "    </tr>\n",
       "    <tr>\n",
       "      <th>1</th>\n",
       "      <td>Pop</td>\n",
       "      <td>87</td>\n",
       "      <td>100</td>\n",
       "      <td>0.0</td>\n",
       "      <td>0.0</td>\n",
       "      <td>0.000000</td>\n",
       "      <td>0.000000</td>\n",
       "      <td>5</td>\n",
       "    </tr>\n",
       "    <tr>\n",
       "      <th>2</th>\n",
       "      <td>Pop</td>\n",
       "      <td>305</td>\n",
       "      <td>100</td>\n",
       "      <td>0.0</td>\n",
       "      <td>0.0</td>\n",
       "      <td>0.000000</td>\n",
       "      <td>0.000000</td>\n",
       "      <td>5</td>\n",
       "    </tr>\n",
       "    <tr>\n",
       "      <th>3</th>\n",
       "      <td>Pop</td>\n",
       "      <td>585</td>\n",
       "      <td>100</td>\n",
       "      <td>1.0</td>\n",
       "      <td>0.6</td>\n",
       "      <td>0.025000</td>\n",
       "      <td>0.141304</td>\n",
       "      <td>5</td>\n",
       "    </tr>\n",
       "    <tr>\n",
       "      <th>4</th>\n",
       "      <td>Pop</td>\n",
       "      <td>590</td>\n",
       "      <td>100</td>\n",
       "      <td>0.0</td>\n",
       "      <td>0.0</td>\n",
       "      <td>0.000000</td>\n",
       "      <td>0.000000</td>\n",
       "      <td>5</td>\n",
       "    </tr>\n",
       "  </tbody>\n",
       "</table>\n",
       "</div>"
      ],
      "text/plain": [
       "  Algorithm  user  nrecs  hit  recall  recip_rank      ndcg  ntruth\n",
       "0       Pop    79    100  1.0     0.4    0.047619  0.107502       5\n",
       "1       Pop    87    100  0.0     0.0    0.000000  0.000000       5\n",
       "2       Pop   305    100  0.0     0.0    0.000000  0.000000       5\n",
       "3       Pop   585    100  1.0     0.6    0.025000  0.141304       5\n",
       "4       Pop   590    100  0.0     0.0    0.000000  0.000000       5"
      ]
     },
     "execution_count": 40,
     "metadata": {},
     "output_type": "execute_result"
    }
   ],
   "source": [
    "all_scores = pd.concat({\n",
    "    'Pop': pop_scores,\n",
    "    'IKNN': iknn_scores,\n",
    "    'IALS': ials_scores,\n",
    "}, names=['Algorithm']).reset_index()\n",
    "all_scores.head()"
   ]
  },
  {
   "cell_type": "code",
   "execution_count": 47,
   "id": "e65cc0a5",
   "metadata": {},
   "outputs": [
    {
     "data": {
      "text/html": [
       "<div>\n",
       "<style scoped>\n",
       "    .dataframe tbody tr th:only-of-type {\n",
       "        vertical-align: middle;\n",
       "    }\n",
       "\n",
       "    .dataframe tbody tr th {\n",
       "        vertical-align: top;\n",
       "    }\n",
       "\n",
       "    .dataframe thead th {\n",
       "        text-align: right;\n",
       "    }\n",
       "</style>\n",
       "<table border=\"1\" class=\"dataframe\">\n",
       "  <thead>\n",
       "    <tr style=\"text-align: right;\">\n",
       "      <th></th>\n",
       "      <th>Algorithm</th>\n",
       "      <th>user</th>\n",
       "      <th>Metric</th>\n",
       "      <th>value</th>\n",
       "    </tr>\n",
       "  </thead>\n",
       "  <tbody>\n",
       "    <tr>\n",
       "      <th>0</th>\n",
       "      <td>Pop</td>\n",
       "      <td>79</td>\n",
       "      <td>hit</td>\n",
       "      <td>1.0</td>\n",
       "    </tr>\n",
       "    <tr>\n",
       "      <th>1</th>\n",
       "      <td>Pop</td>\n",
       "      <td>87</td>\n",
       "      <td>hit</td>\n",
       "      <td>0.0</td>\n",
       "    </tr>\n",
       "    <tr>\n",
       "      <th>2</th>\n",
       "      <td>Pop</td>\n",
       "      <td>305</td>\n",
       "      <td>hit</td>\n",
       "      <td>0.0</td>\n",
       "    </tr>\n",
       "    <tr>\n",
       "      <th>3</th>\n",
       "      <td>Pop</td>\n",
       "      <td>585</td>\n",
       "      <td>hit</td>\n",
       "      <td>1.0</td>\n",
       "    </tr>\n",
       "    <tr>\n",
       "      <th>4</th>\n",
       "      <td>Pop</td>\n",
       "      <td>590</td>\n",
       "      <td>hit</td>\n",
       "      <td>0.0</td>\n",
       "    </tr>\n",
       "  </tbody>\n",
       "</table>\n",
       "</div>"
      ],
      "text/plain": [
       "  Algorithm  user Metric  value\n",
       "0       Pop    79    hit    1.0\n",
       "1       Pop    87    hit    0.0\n",
       "2       Pop   305    hit    0.0\n",
       "3       Pop   585    hit    1.0\n",
       "4       Pop   590    hit    0.0"
      ]
     },
     "execution_count": 47,
     "metadata": {},
     "output_type": "execute_result"
    }
   ],
   "source": [
    "score_wide = all_scores.melt(id_vars=['Algorithm', 'user'], value_vars=['hit', 'recip_rank', 'ndcg'], var_name='Metric')\n",
    "score_wide.head()"
   ]
  },
  {
   "cell_type": "code",
   "execution_count": 50,
   "id": "989eac8d",
   "metadata": {},
   "outputs": [
    {
     "data": {
      "text/plain": [
       "<seaborn.axisgrid.FacetGrid at 0x7f7a36f6ce80>"
      ]
     },
     "execution_count": 50,
     "metadata": {},
     "output_type": "execute_result"
    },
    {
     "data": {
      "image/png": "[encoded data removed]",
      "text/plain": [
       "<Figure size 1500x500 with 3 Axes>"
      ]
     },
     "metadata": {},
     "output_type": "display_data"
    }
   ],
   "source": [
    "sns.catplot(data=score_wide, x='Algorithm', y='value', col='Metric', kind='bar')"
   ]
  },
  {
   "cell_type": "code",
   "execution_count": null,
   "id": "5b697462",
   "metadata": {},
   "outputs": [],
   "source": []
  }
 ],
 "metadata": {
  "kernelspec": {
   "display_name": "Python 3 (ipykernel)",
   "language": "python",
   "name": "python3"
  },
  "language_info": {
   "codemirror_mode": {
    "name": "ipython",
    "version": 3
   },
   "file_extension": ".py",
   "mimetype": "text/x-python",
   "name": "python",
   "nbconvert_exporter": "python",
   "pygments_lexer": "ipython3",
   "version": "3.10.9"
  }
 },
 "nbformat": 4,
 "nbformat_minor": 5
}
